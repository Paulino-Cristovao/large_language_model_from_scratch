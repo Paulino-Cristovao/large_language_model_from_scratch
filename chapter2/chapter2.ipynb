{
 "cells": [
  {
   "cell_type": "markdown",
   "metadata": {},
   "source": [
    "# Chapter 2: Working with text data\n",
    "\n",
    "## Overview\n",
    "This chapter covers the following topics:\n",
    "- Preparing text for large language models training\n",
    "- Splitting text into word and subword tokens\n",
    "- Byte pair enconding as more advanced way of tokenizing text\n",
    "- Sampling training examples with a sliding window approach\n",
    "- Converting tokens into vectors that feed into a large language model\n",
    "\n",
    "### **📌 Objectives of This Chapter**\n",
    "\n",
    "By the end of this chapter, you will be able to:\n",
    "\n",
    "✅ **Understand the Importance of Preprocessing Text for LLMs**  \n",
    "- Learn why text preparation is crucial for effective training of large language models (LLMs).  \n",
    "- Explore different preprocessing techniques to improve model performance.  \n",
    "\n",
    "✅ **Apply Tokenization Techniques**  \n",
    "- Differentiate between **word-level** and **subword-level** tokenization.  \n",
    "- Understand how breaking text into tokens impacts model training and efficiency.  \n",
    "\n",
    "✅ **Master Byte Pair Encoding (BPE) for Tokenization**  \n",
    "- Learn how **Byte Pair Encoding (BPE)** improves text representation.  \n",
    "- Explore how BPE reduces vocabulary size while retaining **meaningful subwords**.  \n",
    "\n",
    "✅ **Implement a Sliding Window Approach for Training Data**  \n",
    "- Understand why **context windows** are used in LLMs.  \n",
    "- Learn how **overlapping sequences** help models retain long-range dependencies.  \n",
    "\n",
    "✅ **Convert Tokens into Numerical Representations**  \n",
    "- Understand the transformation of **tokens into numerical vectors** (embeddings).  \n",
    "- Learn how embeddings **capture semantic relationships** between words.  \n",
    "\n",
    "---\n",
    "\n",
    "By achieving these objectives, you will gain a **strong foundation** in text preprocessing, tokenization, and vectorization—key steps in **training modern large language models (LLMs)**. 🚀\n",
    "\n",
    "## Important Notes\n",
    "Make sure to review the concepts from Chapter 1 as they are foundational for understanding this chapter."
   ]
  },
  {
   "cell_type": "code",
   "execution_count": 15,
   "metadata": {},
   "outputs": [],
   "source": [
    "#"
   ]
  },
  {
   "cell_type": "code",
   "execution_count": 16,
   "metadata": {},
   "outputs": [],
   "source": [
    "import urllib.request \n",
    "import re"
   ]
  },
  {
   "cell_type": "code",
   "execution_count": 17,
   "metadata": {},
   "outputs": [
    {
     "data": {
      "text/plain": [
       "('the-verdict.txt', <http.client.HTTPMessage at 0x1086c3a60>)"
      ]
     },
     "execution_count": 17,
     "metadata": {},
     "output_type": "execute_result"
    }
   ],
   "source": [
    "url = (\"https://raw.githubusercontent.com/rasbt/\"\n",
    "       \"LLMs-from-scratch/main/ch02/01_main-chapter-code/\"\n",
    "       \"the-verdict.txt\")\n",
    "file_path = \"the-verdict.txt\"\n",
    "urllib.request.urlretrieve(url, file_path)"
   ]
  },
  {
   "cell_type": "code",
   "execution_count": 18,
   "metadata": {},
   "outputs": [
    {
     "name": "stdout",
     "output_type": "stream",
     "text": [
      "Total number of characters in the text file: 20479\n",
      "I HAD always thought Jack Gisburn rather a cheap genius--though a good fellow enough--so it was no \n"
     ]
    }
   ],
   "source": [
    "# read the data from the file\n",
    "with open(file_path, \"r\", encoding=\"utf-8\") as f:\n",
    "    raw_text = f.read()\n",
    "\n",
    "print(\"Total number of characters in the text file:\", len(raw_text))\n",
    "print(raw_text[:99])"
   ]
  },
  {
   "cell_type": "code",
   "execution_count": 19,
   "metadata": {},
   "outputs": [
    {
     "name": "stdout",
     "output_type": "stream",
     "text": [
      "Total number of characters in the preprocessed text file: 3788\n"
     ]
    }
   ],
   "source": [
    "# remove all whitespace characters and especial symbols \n",
    "preprocessed_text = re.sub(r'[\\s,.:;?_!\"()\\']|--', ' ', raw_text)\n",
    "preprocessed_text = [item.strip() for item in preprocessed_text.split() if item.strip() != \"\"]\n",
    "print(\"Total number of characters in the preprocessed text file:\", len(preprocessed_text))\n"
   ]
  },
  {
   "cell_type": "code",
   "execution_count": 20,
   "metadata": {},
   "outputs": [
    {
     "data": {
      "text/plain": [
       "['I',\n",
       " 'HAD',\n",
       " 'always',\n",
       " 'thought',\n",
       " 'Jack',\n",
       " 'Gisburn',\n",
       " 'rather',\n",
       " 'a',\n",
       " 'cheap',\n",
       " 'genius']"
      ]
     },
     "execution_count": 20,
     "metadata": {},
     "output_type": "execute_result"
    }
   ],
   "source": [
    "preprocessed_text[:10]"
   ]
  },
  {
   "cell_type": "code",
   "execution_count": 21,
   "metadata": {},
   "outputs": [
    {
     "name": "stdout",
     "output_type": "stream",
     "text": [
      "1118\n"
     ]
    }
   ],
   "source": [
    "# converting tokens into token IDs\n",
    "all_words = sorted(set(preprocessed_text)) \n",
    "vocab_size = len(all_words)\n",
    "print(vocab_size)"
   ]
  },
  {
   "cell_type": "code",
   "execution_count": 22,
   "metadata": {},
   "outputs": [
    {
     "name": "stdout",
     "output_type": "stream",
     "text": [
      "('A', 0)\n",
      "('Ah', 1)\n",
      "('Among', 2)\n",
      "('And', 3)\n",
      "('Are', 4)\n",
      "('Arrt', 5)\n",
      "('As', 6)\n",
      "('At', 7)\n",
      "('Be', 8)\n",
      "('Begin', 9)\n",
      "('Burlington', 10)\n",
      "('But', 11)\n"
     ]
    }
   ],
   "source": [
    "# creating vocabulary lookup tables\n",
    "vocab = {token: i for i, token in enumerate(all_words)}\n",
    "for i, item in enumerate(vocab.items()):\n",
    "    print(item)\n",
    "    if i > 10:\n",
    "        break"
   ]
  },
  {
   "cell_type": "code",
   "execution_count": 23,
   "metadata": {},
   "outputs": [],
   "source": [
    "# Implementing a simple tokenizer \n",
    "class SimpleTokenizer:\n",
    "    def __init__(self, vocab):\n",
    "        self.vocab = vocab\n",
    "        self.inverse_vocab = {i: token for token, i in vocab.items()}\n",
    "        self.tokenizer = re.compile(r'[\\s,.:;?_!\"()\\']|--')\n",
    "        self.unk_token = '<UNK>'\n",
    "        if self.unk_token not in self.vocab:\n",
    "            self.vocab[self.unk_token] = len(self.vocab)\n",
    "            self.inverse_vocab[len(self.vocab) - 1] = self.unk_token\n",
    "        \n",
    "    def tokenize(self, text):\n",
    "        return [token for token in self.tokenizer.split(text) if token]\n",
    "    \n",
    "    def encode(self, tokens):\n",
    "        return [self.vocab.get(token, self.vocab[self.unk_token]) for token in tokens]\n",
    "\n",
    "    def decode(self, token_ids):\n",
    "        return [self.inverse_vocab[token_id] for token_id in token_ids]\n"
   ]
  },
  {
   "cell_type": "code",
   "execution_count": 24,
   "metadata": {},
   "outputs": [],
   "source": [
    "# Testing the SimpleTokenizer\n",
    "tokenizer = SimpleTokenizer(vocab)"
   ]
  },
  {
   "cell_type": "code",
   "execution_count": 25,
   "metadata": {},
   "outputs": [
    {
     "name": "stdout",
     "output_type": "stream",
     "text": [
      "Tokens: ['I', 'HAD', 'always', 'thought', 'Jack', 'Gisburn', 'rather', 'a', 'cheap', 'genius']\n"
     ]
    }
   ],
   "source": [
    "# Test text\n",
    "test_text = \"I HAD always thought Jack Gisburn rather a cheap genius.\"\n",
    "tokens = tokenizer.tokenize(test_text)\n",
    "print(\"Tokens:\", tokens)"
   ]
  },
  {
   "cell_type": "code",
   "execution_count": 26,
   "metadata": {},
   "outputs": [
    {
     "name": "stdout",
     "output_type": "stream",
     "text": [
      "Encoded Tokens: [42, 33, 137, 991, 46, 27, 806, 103, 244, 474]\n"
     ]
    }
   ],
   "source": [
    "# Encode tokens\n",
    "encoded_tokens = tokenizer.encode(tokens)\n",
    "print(\"Encoded Tokens:\", encoded_tokens)"
   ]
  },
  {
   "cell_type": "code",
   "execution_count": 27,
   "metadata": {},
   "outputs": [
    {
     "name": "stdout",
     "output_type": "stream",
     "text": [
      "Decoded Tokens: ['I', 'HAD', 'always', 'thought', 'Jack', 'Gisburn', 'rather', 'a', 'cheap', 'genius']\n"
     ]
    }
   ],
   "source": [
    "# Decode tokens\n",
    "decoded_tokens = tokenizer.decode(encoded_tokens)\n",
    "print(\"Decoded Tokens:\", decoded_tokens)"
   ]
  },
  {
   "cell_type": "code",
   "execution_count": 29,
   "metadata": {},
   "outputs": [
    {
     "name": "stdout",
     "output_type": "stream",
     "text": [
      "tiktoken version: 0.8.0\n"
     ]
    }
   ],
   "source": [
    "# Byte Pair encoding used by OPENAI's GPT-2\n",
    "import tiktoken\n",
    "print(\"tiktoken version:\", tiktoken.__version__)\n"
   ]
  },
  {
   "cell_type": "code",
   "execution_count": 31,
   "metadata": {},
   "outputs": [],
   "source": [
    "# Tokenizing text with the GPT-2 tokenizer\n",
    "# Instantiating the GPT-2 tokenizer\n",
    "tokenizer = tiktoken.get_encoding(\"gpt2\")"
   ]
  },
  {
   "cell_type": "code",
   "execution_count": 33,
   "metadata": {},
   "outputs": [
    {
     "name": "stdout",
     "output_type": "stream",
     "text": [
      "Tokens: [40, 367, 2885, 1464, 1807, 3619, 402, 271, 10899, 2138, 257, 7026, 15632, 13]\n"
     ]
    }
   ],
   "source": [
    "# let's test the tokenizer\n",
    "test_text = \"I HAD always thought Jack Gisburn rather a cheap genius.\"\n",
    "tokens = tokenizer.encode(test_text)\n",
    "print(\"Tokens:\", tokens)"
   ]
  },
  {
   "cell_type": "code",
   "execution_count": 34,
   "metadata": {},
   "outputs": [
    {
     "name": "stdout",
     "output_type": "stream",
     "text": [
      "Decoded string: I HAD always thought Jack Gisburn rather a cheap genius.\n"
     ]
    }
   ],
   "source": [
    "# let's decode the tokens\n",
    "strings = tokenizer.decode(tokens)\n",
    "print(\"Decoded string:\", strings)"
   ]
  },
  {
   "cell_type": "code",
   "execution_count": 35,
   "metadata": {},
   "outputs": [
    {
     "name": "stdout",
     "output_type": "stream",
     "text": [
      "Total number of tokens in the raw text: 5145\n"
     ]
    }
   ],
   "source": [
    "# let's work with our raw text\n",
    "encode_text = tokenizer.encode(raw_text)\n",
    "print(\"Total number of tokens in the raw text:\", len(encode_text))"
   ]
  },
  {
   "cell_type": "code",
   "execution_count": 36,
   "metadata": {},
   "outputs": [
    {
     "data": {
      "text/plain": [
       "[40, 367, 2885, 1464, 1807, 3619, 402, 271, 10899, 2138]"
      ]
     },
     "execution_count": 36,
     "metadata": {},
     "output_type": "execute_result"
    }
   ],
   "source": [
    "encode_text[:10]"
   ]
  },
  {
   "cell_type": "code",
   "execution_count": 39,
   "metadata": {},
   "outputs": [
    {
     "name": "stdout",
     "output_type": "stream",
     "text": [
      "x: [40, 367, 2885, 1464, 1807, 3619, 402, 271, 10899, 2138, 257, 7026, 15632, 438, 2016, 257, 922, 5891, 1576, 438, 568, 340, 373, 645, 1049, 5975, 284, 502, 284, 3285, 326, 11, 287, 262, 6001, 286, 465, 13476, 11, 339, 550, 5710, 465, 12036, 11, 6405, 257, 5527, 27075, 11, 290, 4920, 2241, 287, 257, 4489, 64, 319, 262, 34686, 41976, 13, 357, 10915, 314, 2138, 1807, 340, 561, 423, 587, 10598, 393, 28537, 2014, 198, 198, 1, 464, 6001, 286, 465, 13476, 1, 438, 5562, 373, 644, 262, 1466, 1444, 340, 13, 314, 460, 3285, 9074, 13, 46606, 536, 5469, 438, 14363, 938, 4842, 1650, 353, 438, 2934, 489, 3255, 465, 48422, 540, 450, 67, 3299, 13, 366, 5189, 1781, 340, 338, 1016, 284, 3758, 262, 1988]\n",
      "y:     [367, 2885, 1464, 1807, 3619, 402, 271, 10899, 2138, 257, 7026, 15632, 438, 2016, 257, 922, 5891, 1576, 438, 568, 340, 373, 645, 1049, 5975, 284, 502, 284, 3285, 326, 11, 287, 262, 6001, 286, 465, 13476, 11, 339, 550, 5710, 465, 12036, 11, 6405, 257, 5527, 27075, 11, 290, 4920, 2241, 287, 257, 4489, 64, 319, 262, 34686, 41976, 13, 357, 10915, 314, 2138, 1807, 340, 561, 423, 587, 10598, 393, 28537, 2014, 198, 198, 1, 464, 6001, 286, 465, 13476, 1, 438, 5562, 373, 644, 262, 1466, 1444, 340, 13, 314, 460, 3285, 9074, 13, 46606, 536, 5469, 438, 14363, 938, 4842, 1650, 353, 438, 2934, 489, 3255, 465, 48422, 540, 450, 67, 3299, 13, 366, 5189, 1781, 340, 338, 1016, 284, 3758, 262, 1988, 286]\n"
     ]
    }
   ],
   "source": [
    "# Data sampling with a sliding windows\n",
    "context_length = 128\n",
    "x = encode_text[:context_length]\n",
    "y = encode_text[1:context_length+1] \n",
    "print(f\"x: {x}\")\n",
    "print(f\"y:     {y}\")"
   ]
  },
  {
   "cell_type": "code",
   "execution_count": 40,
   "metadata": {},
   "outputs": [
    {
     "name": "stdout",
     "output_type": "stream",
     "text": [
      "X: I HAD always thought Jack Gisburn rather\n",
      "Y:  HAD always thought Jack Gisburn rather a\n",
      "\n",
      "X:  HAD always thought Jack Gisburn rather a\n",
      "Y: AD always thought Jack Gisburn rather a cheap\n",
      "\n",
      "X: AD always thought Jack Gisburn rather a cheap\n",
      "Y:  always thought Jack Gisburn rather a cheap genius\n",
      "\n",
      "X:  always thought Jack Gisburn rather a cheap genius\n",
      "Y:  thought Jack Gisburn rather a cheap genius--\n",
      "\n",
      "X:  thought Jack Gisburn rather a cheap genius--\n",
      "Y:  Jack Gisburn rather a cheap genius--though\n",
      "\n",
      "X:  Jack Gisburn rather a cheap genius--though\n",
      "Y:  Gisburn rather a cheap genius--though a\n",
      "\n",
      "X:  Gisburn rather a cheap genius--though a\n",
      "Y: isburn rather a cheap genius--though a good\n",
      "\n",
      "X: isburn rather a cheap genius--though a good\n",
      "Y: burn rather a cheap genius--though a good fellow\n",
      "\n",
      "X: burn rather a cheap genius--though a good fellow\n",
      "Y:  rather a cheap genius--though a good fellow enough\n",
      "\n",
      "X:  rather a cheap genius--though a good fellow enough\n",
      "Y:  a cheap genius--though a good fellow enough--\n",
      "\n"
     ]
    }
   ],
   "source": [
    "for i in range(10):\n",
    "    print(f\"X: {tokenizer.decode(x[i:i+10])}\")\n",
    "    print(f\"Y: {tokenizer.decode(y[i:i+10])}\\n\")"
   ]
  },
  {
   "cell_type": "code",
   "execution_count": 41,
   "metadata": {},
   "outputs": [],
   "source": [
    "# A dataset for batched inputs and targets\n",
    "import torch \n",
    "from torch.utils.data import Dataset, DataLoader "
   ]
  },
  {
   "cell_type": "code",
   "execution_count": 44,
   "metadata": {},
   "outputs": [],
   "source": [
    "class GPTDatasetV1(Dataset):\n",
    "    def __init__(self, text: str, tokenizer: tiktoken.core.Encoding, context_length: int, stride: int):\n",
    "        \"\"\"\n",
    "        Initializes the GPTDatasetV1 object.\n",
    "\n",
    "        Args:\n",
    "            text (str): The input text to be tokenized.\n",
    "            tokenizer (tiktoken.core.Encoding): The tokenizer to encode the text.\n",
    "            context_length (int): The length of the context window.\n",
    "            stride (int): The stride for the sliding window approach.\n",
    "        \"\"\"\n",
    "        self.input_ids = []\n",
    "        self.target_ids = []\n",
    "        self.context_length = context_length\n",
    "        token_ids = tokenizer.encode(text)\n",
    "\n",
    "        for i in range(0, len(token_ids) - context_length, stride):\n",
    "            input_chunk = token_ids[i:i+context_length]\n",
    "            target_chunk = token_ids[i+1:i+context_length+1]\n",
    "            self.input_ids.append(torch.tensor(input_chunk))\n",
    "            self.target_ids.append(torch.tensor(target_chunk))\n",
    "        \n",
    "    def __len__(self) -> int:\n",
    "        \"\"\"\n",
    "        Returns the number of samples in the dataset.\n",
    "\n",
    "        Returns:\n",
    "            int: The number of samples.\n",
    "        \"\"\"\n",
    "        return len(self.input_ids)\n",
    "    \n",
    "    def __getitem__(self, idx: int) -> tuple:\n",
    "        \"\"\"\n",
    "        Retrieves the input and target tensors for a given index.\n",
    "\n",
    "        Args:\n",
    "            idx (int): The index of the sample to retrieve.\n",
    "\n",
    "        Returns:\n",
    "            tuple: A tuple containing the input and target tensors.\n",
    "        \"\"\"\n",
    "        return self.input_ids[idx], self.target_ids[idx]\n"
   ]
  },
  {
   "cell_type": "code",
   "execution_count": 45,
   "metadata": {},
   "outputs": [],
   "source": [
    "def create_data_loader(text: str, tokenizer: tiktoken.core.Encoding, context_length: int = 256, stride: int = 128, batch_size: int = 8, shuffle: bool = False, drop_last: bool = False, num_workers: int = 0) -> DataLoader:\n",
    "    \"\"\"\n",
    "    Creates a DataLoader to generate batches with input-target pairs.\n",
    "\n",
    "    Args:\n",
    "        text (str): The input text to be tokenized.\n",
    "        tokenizer (tiktoken.core.Encoding): The tokenizer to encode the text.\n",
    "        context_length (int, optional): The length of the context window. Defaults to 256.\n",
    "        stride (int, optional): The stride for the sliding window approach. Defaults to 128.\n",
    "        batch_size (int, optional): The number of samples per batch. Defaults to 8.\n",
    "        shuffle (bool, optional): Whether to shuffle the data. Defaults to False.\n",
    "        drop_last (bool, optional): Whether to drop the last incomplete batch. Defaults to False.\n",
    "        num_workers (int, optional): The number of subprocesses to use for data loading. Defaults to 0.\n",
    "\n",
    "    Returns:\n",
    "        DataLoader: A DataLoader instance for the dataset.\n",
    "    \"\"\"\n",
    "    dataset = GPTDatasetV1(text, tokenizer, context_length, stride)\n",
    "    return DataLoader(dataset, batch_size=batch_size, shuffle=shuffle, drop_last=drop_last, num_workers=num_workers)"
   ]
  },
  {
   "cell_type": "code",
   "execution_count": 77,
   "metadata": {},
   "outputs": [],
   "source": [
    "dataloader = create_data_loader(raw_text, tokenizer, context_length=4, stride=1, batch_size=4, shuffle=False, drop_last=True, num_workers=0)"
   ]
  },
  {
   "cell_type": "code",
   "execution_count": 78,
   "metadata": {},
   "outputs": [
    {
     "name": "stdout",
     "output_type": "stream",
     "text": [
      "Input shape: torch.Size([4, 4])\n",
      "Input tokens: [tensor([[  40,  367, 2885, 1464],\n",
      "        [ 367, 2885, 1464, 1807],\n",
      "        [2885, 1464, 1807, 3619],\n",
      "        [1464, 1807, 3619,  402]]), tensor([[ 367, 2885, 1464, 1807],\n",
      "        [2885, 1464, 1807, 3619],\n",
      "        [1464, 1807, 3619,  402],\n",
      "        [1807, 3619,  402,  271]])]\n"
     ]
    }
   ],
   "source": [
    "data_iter = iter(dataloader) \n",
    "first_batch = next(data_iter)\n",
    "print(\"Input shape:\", first_batch[0].shape)\n",
    "print(\"Input tokens:\", first_batch)"
   ]
  },
  {
   "cell_type": "code",
   "execution_count": 79,
   "metadata": {},
   "outputs": [
    {
     "name": "stdout",
     "output_type": "stream",
     "text": [
      "Target shape: torch.Size([4, 4])\n",
      "Input tokens: [tensor([[ 1807,  3619,   402,   271],\n",
      "        [ 3619,   402,   271, 10899],\n",
      "        [  402,   271, 10899,  2138],\n",
      "        [  271, 10899,  2138,   257]]), tensor([[ 3619,   402,   271, 10899],\n",
      "        [  402,   271, 10899,  2138],\n",
      "        [  271, 10899,  2138,   257],\n",
      "        [10899,  2138,   257,  7026]])]\n"
     ]
    }
   ],
   "source": [
    "second_batch = next(data_iter)\n",
    "print(\"Target shape:\", second_batch[0].shape)\n",
    "print(\"Input tokens:\", second_batch)"
   ]
  },
  {
   "cell_type": "code",
   "execution_count": 80,
   "metadata": {},
   "outputs": [],
   "source": [
    "# creating token embedding \n",
    "import torch.nn as nn"
   ]
  },
  {
   "cell_type": "code",
   "execution_count": 81,
   "metadata": {},
   "outputs": [],
   "source": [
    "input_ids = torch.tensor([1, 2, 3, 4])\n",
    "vocab_size = 6 \n",
    "output_dim = 3 \n"
   ]
  },
  {
   "cell_type": "code",
   "execution_count": 82,
   "metadata": {},
   "outputs": [
    {
     "name": "stdout",
     "output_type": "stream",
     "text": [
      "Parameter containing:\n",
      "tensor([[ 0.3374, -0.1778, -0.1690],\n",
      "        [ 0.9178,  1.5810,  1.3010],\n",
      "        [ 1.2753, -0.2010, -0.1606],\n",
      "        [-0.4015,  0.9666, -1.1481],\n",
      "        [-1.1589,  0.3255, -0.6315],\n",
      "        [-2.8400, -0.7849, -1.4096]], requires_grad=True)\n"
     ]
    }
   ],
   "source": [
    "torch.manual_seed(123)\n",
    "embedding_layer = nn.Embedding(vocab_size, output_dim)\n",
    "print(embedding_layer.weight)"
   ]
  },
  {
   "cell_type": "code",
   "execution_count": null,
   "metadata": {},
   "outputs": [],
   "source": [
    "# Encoding word positions \n",
    "import torch.nn.functional as F\n"
   ]
  }
 ],
 "metadata": {
  "kernelspec": {
   "display_name": "py-learn-py310",
   "language": "python",
   "name": "python3"
  },
  "language_info": {
   "codemirror_mode": {
    "name": "ipython",
    "version": 3
   },
   "file_extension": ".py",
   "mimetype": "text/x-python",
   "name": "python",
   "nbconvert_exporter": "python",
   "pygments_lexer": "ipython3",
   "version": "3.10.16"
  }
 },
 "nbformat": 4,
 "nbformat_minor": 4
}
